{
 "cells": [
  {
   "cell_type": "markdown",
   "id": "438fde9d",
   "metadata": {},
   "source": [
    "### Load Functions"
   ]
  },
  {
   "cell_type": "code",
   "execution_count": 1,
   "id": "1d7f0bce",
   "metadata": {},
   "outputs": [],
   "source": [
    "from parameter import *\n",
    "from parameter import split_data,model_build_train, model_predict, trace_seq_path, train_batch, anomaly_match"
   ]
  },
  {
   "cell_type": "markdown",
   "id": "56899ab0",
   "metadata": {},
   "source": [
    "### Load Data and Path"
   ]
  },
  {
   "cell_type": "code",
   "execution_count": 2,
   "id": "9562ae10",
   "metadata": {},
   "outputs": [
    {
     "data": {
      "text/html": [
       "<div>\n",
       "<style scoped>\n",
       "    .dataframe tbody tr th:only-of-type {\n",
       "        vertical-align: middle;\n",
       "    }\n",
       "\n",
       "    .dataframe tbody tr th {\n",
       "        vertical-align: top;\n",
       "    }\n",
       "\n",
       "    .dataframe thead th {\n",
       "        text-align: right;\n",
       "    }\n",
       "</style>\n",
       "<table border=\"1\" class=\"dataframe\">\n",
       "  <thead>\n",
       "    <tr style=\"text-align: right;\">\n",
       "      <th></th>\n",
       "      <th>Unnamed: 0</th>\n",
       "      <th>log message</th>\n",
       "      <th>log key</th>\n",
       "      <th>parameter value vector</th>\n",
       "      <th>seq_path</th>\n",
       "      <th>path_pred</th>\n",
       "    </tr>\n",
       "  </thead>\n",
       "  <tbody>\n",
       "    <tr>\n",
       "      <th>0</th>\n",
       "      <td>0</td>\n",
       "      <td>3 18 16:34:25 Cluster observer forked - pid = ...</td>\n",
       "      <td>Cluster observer forked - pid = &lt;*&gt;\"</td>\n",
       "      <td>[0, '1386']</td>\n",
       "      <td>[17.0, 24.0, 36.0, 30.0, 44.0, 31]</td>\n",
       "      <td>0</td>\n",
       "    </tr>\n",
       "    <tr>\n",
       "      <th>1</th>\n",
       "      <td>1</td>\n",
       "      <td>3 18 16:34:25 Initialization successful. Start...</td>\n",
       "      <td>Initialization successful. Starting now the su...</td>\n",
       "      <td>[0]</td>\n",
       "      <td>[24.0, 36.0, 30.0, 44.0, 31.0, 30]</td>\n",
       "      <td>0</td>\n",
       "    </tr>\n",
       "    <tr>\n",
       "      <th>2</th>\n",
       "      <td>2</td>\n",
       "      <td>3 18 16:34:25 SNM Cluster observer starting (P...</td>\n",
       "      <td>SNM Cluster observer starting (PID &lt;*&gt;)...\"</td>\n",
       "      <td>[0, '1386']</td>\n",
       "      <td>[36.0, 30.0, 44.0, 31.0, 30.0, 30]</td>\n",
       "      <td>0</td>\n",
       "    </tr>\n",
       "    <tr>\n",
       "      <th>3</th>\n",
       "      <td>3</td>\n",
       "      <td>3 18 16:34:25 Process RtpTrcMgr01 is fully fun...</td>\n",
       "      <td>Process &lt;*&gt; is fully functional.\"</td>\n",
       "      <td>[0, 'RtpTrcMgr01']</td>\n",
       "      <td>[30.0, 44.0, 31.0, 30.0, 30.0, 43]</td>\n",
       "      <td>0</td>\n",
       "    </tr>\n",
       "    <tr>\n",
       "      <th>4</th>\n",
       "      <td>4</td>\n",
       "      <td>3 18 16:34:25 We have 1 configured nodes in th...</td>\n",
       "      <td>We have &lt;*&gt; configured nodes in the cluster\"</td>\n",
       "      <td>[0, '1']</td>\n",
       "      <td>[44.0, 31.0, 30.0, 30.0, 43.0, 30]</td>\n",
       "      <td>0</td>\n",
       "    </tr>\n",
       "    <tr>\n",
       "      <th>...</th>\n",
       "      <td>...</td>\n",
       "      <td>...</td>\n",
       "      <td>...</td>\n",
       "      <td>...</td>\n",
       "      <td>...</td>\n",
       "      <td>...</td>\n",
       "    </tr>\n",
       "    <tr>\n",
       "      <th>95</th>\n",
       "      <td>95</td>\n",
       "      <td>3 18 16:34:28 Alias RtpCtx01_00 changed its st...</td>\n",
       "      <td>Alias &lt;*&gt; changed its state; new primary: &lt;*&gt; ...</td>\n",
       "      <td>[0, 'RtpCtx01_00', 'RtpCtxMaster01_00,']</td>\n",
       "      <td>[3.0, 3.0, 42.0, 30.0, 25.0, 25]</td>\n",
       "      <td>0</td>\n",
       "    </tr>\n",
       "    <tr>\n",
       "      <th>96</th>\n",
       "      <td>96</td>\n",
       "      <td>3 18 16:34:28 Alias RtpCtx01_00 changed its st...</td>\n",
       "      <td>Alias &lt;*&gt; changed its state; new primary: &lt;*&gt; ...</td>\n",
       "      <td>[0, 'RtpCtx01_00', 'RtpCtxMaster01_00,']</td>\n",
       "      <td>[3.0, 42.0, 30.0, 25.0, 25.0, 25]</td>\n",
       "      <td>0</td>\n",
       "    </tr>\n",
       "    <tr>\n",
       "      <th>97</th>\n",
       "      <td>97</td>\n",
       "      <td>3 18 16:34:28 The process was successfully ini...</td>\n",
       "      <td>The process was successfully initialized and i...</td>\n",
       "      <td>[0]</td>\n",
       "      <td>[42.0, 30.0, 25.0, 25.0, 25.0, 25]</td>\n",
       "      <td>0</td>\n",
       "    </tr>\n",
       "    <tr>\n",
       "      <th>98</th>\n",
       "      <td>98</td>\n",
       "      <td>3 18 16:34:29 Process RtpRestServ is fully fun...</td>\n",
       "      <td>Process &lt;*&gt; is fully functional.\"</td>\n",
       "      <td>[0, 'RtpRestServ']</td>\n",
       "      <td>[30.0, 25.0, 25.0, 25.0, 25.0, 32]</td>\n",
       "      <td>0</td>\n",
       "    </tr>\n",
       "    <tr>\n",
       "      <th>99</th>\n",
       "      <td>99</td>\n",
       "      <td>3 18 16:34:29 Internal Information: CM Lib is ...</td>\n",
       "      <td>Internal Information: CM Lib is being initiali...</td>\n",
       "      <td>[0]</td>\n",
       "      <td>[25.0, 25.0, 25.0, 25.0, 32.0, 51]</td>\n",
       "      <td>0</td>\n",
       "    </tr>\n",
       "  </tbody>\n",
       "</table>\n",
       "<p>100 rows × 6 columns</p>\n",
       "</div>"
      ],
      "text/plain": [
       "    Unnamed: 0                                        log message  \\\n",
       "0            0  3 18 16:34:25 Cluster observer forked - pid = ...   \n",
       "1            1  3 18 16:34:25 Initialization successful. Start...   \n",
       "2            2  3 18 16:34:25 SNM Cluster observer starting (P...   \n",
       "3            3  3 18 16:34:25 Process RtpTrcMgr01 is fully fun...   \n",
       "4            4  3 18 16:34:25 We have 1 configured nodes in th...   \n",
       "..         ...                                                ...   \n",
       "95          95  3 18 16:34:28 Alias RtpCtx01_00 changed its st...   \n",
       "96          96  3 18 16:34:28 Alias RtpCtx01_00 changed its st...   \n",
       "97          97  3 18 16:34:28 The process was successfully ini...   \n",
       "98          98  3 18 16:34:29 Process RtpRestServ is fully fun...   \n",
       "99          99  3 18 16:34:29 Internal Information: CM Lib is ...   \n",
       "\n",
       "                                              log key  \\\n",
       "0                Cluster observer forked - pid = <*>\"   \n",
       "1   Initialization successful. Starting now the su...   \n",
       "2         SNM Cluster observer starting (PID <*>)...\"   \n",
       "3                   Process <*> is fully functional.\"   \n",
       "4        We have <*> configured nodes in the cluster\"   \n",
       "..                                                ...   \n",
       "95  Alias <*> changed its state; new primary: <*> ...   \n",
       "96  Alias <*> changed its state; new primary: <*> ...   \n",
       "97  The process was successfully initialized and i...   \n",
       "98                  Process <*> is fully functional.\"   \n",
       "99  Internal Information: CM Lib is being initiali...   \n",
       "\n",
       "                      parameter value vector  \\\n",
       "0                                [0, '1386']   \n",
       "1                                        [0]   \n",
       "2                                [0, '1386']   \n",
       "3                         [0, 'RtpTrcMgr01']   \n",
       "4                                   [0, '1']   \n",
       "..                                       ...   \n",
       "95  [0, 'RtpCtx01_00', 'RtpCtxMaster01_00,']   \n",
       "96  [0, 'RtpCtx01_00', 'RtpCtxMaster01_00,']   \n",
       "97                                       [0]   \n",
       "98                        [0, 'RtpRestServ']   \n",
       "99                                       [0]   \n",
       "\n",
       "                              seq_path  path_pred  \n",
       "0   [17.0, 24.0, 36.0, 30.0, 44.0, 31]          0  \n",
       "1   [24.0, 36.0, 30.0, 44.0, 31.0, 30]          0  \n",
       "2   [36.0, 30.0, 44.0, 31.0, 30.0, 30]          0  \n",
       "3   [30.0, 44.0, 31.0, 30.0, 30.0, 43]          0  \n",
       "4   [44.0, 31.0, 30.0, 30.0, 43.0, 30]          0  \n",
       "..                                 ...        ...  \n",
       "95    [3.0, 3.0, 42.0, 30.0, 25.0, 25]          0  \n",
       "96   [3.0, 42.0, 30.0, 25.0, 25.0, 25]          0  \n",
       "97  [42.0, 30.0, 25.0, 25.0, 25.0, 25]          0  \n",
       "98  [30.0, 25.0, 25.0, 25.0, 25.0, 32]          0  \n",
       "99  [25.0, 25.0, 25.0, 25.0, 32.0, 51]          0  \n",
       "\n",
       "[100 rows x 6 columns]"
      ]
     },
     "execution_count": 2,
     "metadata": {},
     "output_type": "execute_result"
    }
   ],
   "source": [
    "df = pd.read_csv(PurePosixPath('Drain_result/RtpDump.log_structured.csv'))\n",
    "model_file = PurePosixPath(\"para_model.h5\")\n",
    "scaler_file =  ''\n",
    "label_file =  ''\n",
    "trace_df = pd.read_csv(PurePosixPath('EPA_trace_df.csv'))\n",
    "trace_df"
   ]
  },
  {
   "cell_type": "markdown",
   "id": "ee961f4e",
   "metadata": {},
   "source": [
    "### Transform to Numerical Data for each log key "
   ]
  },
  {
   "cell_type": "code",
   "execution_count": null,
   "id": "529f4605",
   "metadata": {},
   "outputs": [],
   "source": [
    "import gen_matrics\n",
    "\n",
    "fd_values = pd.read_csv('data/RtpDump.log_value_vector.csv')\n",
    "# create the aim file where the key_num_para_dict.csv will be saved\n",
    "para_dict_filename = 'temp/aim.csv'\n",
    "key_num_para_dict = gen_matrics.log_vectors(fd_values, para_dict_filename)\n",
    "\n",
    "i = 0\n",
    "# create all the matrixes for all the eventIDs\n",
    "for key in key_num_para_dict.keys():\n",
    "    print(\"the key is:\", key)\n",
    "    gen_matrics.str_array(key_num_para_dict, key, 'temp/npy2/', str(i))\n",
    "    i+=1"
   ]
  },
  {
   "cell_type": "markdown",
   "id": "aefb7286",
   "metadata": {},
   "source": [
    "###  Select specific log key Parameters "
   ]
  },
  {
   "cell_type": "code",
   "execution_count": null,
   "id": "f4662a9a",
   "metadata": {},
   "outputs": [],
   "source": [
    "# load testing parameter value vector\n",
    "eventId = 16\n",
    "# with categorical data inside\n",
    "data = df[df['EventTemplate']=='A <*> <*> was <*>']['ParameterList']\n",
    "    \n",
    "# feature engineering for parameter value matrix\n",
    "col_num = len(data[0])\n",
    "    \n",
    "new_data = []"
   ]
  },
  {
   "cell_type": "code",
   "execution_count": null,
   "id": "4ed1e862",
   "metadata": {},
   "outputs": [],
   "source": [
    "# feature engineering for parameter value matrix\n",
    "data = np.load('temp/npy/E31.npy')\n",
    "col_num = len(data[0])\n",
    "new_data = []\n",
    "data"
   ]
  },
  {
   "cell_type": "markdown",
   "id": "795882d9",
   "metadata": {},
   "source": [
    "### Feature Engineering"
   ]
  },
  {
   "cell_type": "code",
   "execution_count": null,
   "id": "189b8e3c",
   "metadata": {},
   "outputs": [],
   "source": [
    "# feature engineering for every single column\n",
    "for col_ord in range(col_num):\n",
    "        \n",
    "    new_data.append([row[col_ord] for row in data])\n",
    "    # replace the missing values\n",
    "    new_data[col_ord] = miss_rep_col(new_data[col_ord])\n",
    "\n",
    "    # create paths to save encoder model\n",
    "    label_encoder_path = Path(label_file).joinpath(str(eventId), str(col_ord) + 'label.save')\n",
    "        \n",
    "    if not Path(label_encoder_path).parent.is_dir():\n",
    "        Path(label_encoder_path).parent.mkdir(parents=True, exist_ok=True)\n",
    "        \n",
    "    # encode categorical labels\n",
    "    if pd.Series(new_data[col_ord]).dtype == 'O':\n",
    "        new_data[col_ord] = lab_enc(new_data[col_ord], label_encoder_path.as_posix())            \n",
    "        \n",
    "    # nomalize the column\n",
    "    # new_data[col_ord] = \n",
    "    # stan_cols(new_data[col_ord], col_ord, eventId, scaler_file)\n",
    "        \n",
    "    # reshape 2D to 1D\n",
    "    new_data[col_ord] = np.reshape(new_data[col_ord],new_data[col_ord].shape[0])"
   ]
  },
  {
   "cell_type": "markdown",
   "id": "008e8402",
   "metadata": {},
   "source": [
    "### Split into X[5], y[1]"
   ]
  },
  {
   "cell_type": "code",
   "execution_count": null,
   "id": "b2645ec4",
   "metadata": {},
   "outputs": [],
   "source": [
    "# shift the row to column   \n",
    "new_data = np.array(new_data).T\n",
    "n_steps = 5\n",
    "X, y = split_data(new_data, n_steps)\n",
    "X.shape, y.shape"
   ]
  },
  {
   "cell_type": "markdown",
   "id": "d0c9983d",
   "metadata": {},
   "source": [
    "### Reshape data and Build model"
   ]
  },
  {
   "cell_type": "code",
   "execution_count": null,
   "id": "a9f4bb31",
   "metadata": {},
   "outputs": [],
   "source": [
    "%%time \n",
    "# reshape x to (samples, time steps, features)\n",
    "train_X = np.array(X).reshape(-1, n_steps, len(data[0]))\n",
    "# reshape y to (samples, features)\n",
    "train_y = np.array(y).reshape(-1, len(data[0]))\n",
    "train_X.shape, train_y.shape"
   ]
  },
  {
   "cell_type": "code",
   "execution_count": null,
   "id": "79d89128",
   "metadata": {},
   "outputs": [],
   "source": [
    "%time model = model_build_train(train_X, train_y, model_file)"
   ]
  },
  {
   "cell_type": "markdown",
   "id": "39e868ff",
   "metadata": {},
   "source": [
    "### MSE Error Prediction"
   ]
  },
  {
   "cell_type": "code",
   "execution_count": null,
   "id": "930e5a7e",
   "metadata": {},
   "outputs": [],
   "source": [
    "# model = keras.models.load_model(model_file)\n",
    "%time mse_error = model_predict(model, train_X[:50], train_y[:50])\n",
    "print(mse_error)"
   ]
  },
  {
   "cell_type": "markdown",
   "id": "523a8115",
   "metadata": {},
   "source": [
    "### Find Anomaly (if out of confidence)"
   ]
  },
  {
   "cell_type": "code",
   "execution_count": null,
   "id": "3eb15c51",
   "metadata": {},
   "outputs": [],
   "source": [
    "# confidence = 0.99\n",
    "# print(confidence_interval(confidence, mse_error))\n",
    "fp_int = 0.97 \n",
    "tp_int = 0.999\n",
    "attempts = 10\n",
    "threshold1, threshold3, seq_pre_dict = anomaly_match(mse_error, fp_int, tp_int, eventId)"
   ]
  },
  {
   "cell_type": "code",
   "execution_count": null,
   "id": "41c65f81",
   "metadata": {},
   "outputs": [],
   "source": [
    "visual_mses(eventId, mse_error, threshold1, threshold3, fp_int, tp_int)"
   ]
  },
  {
   "cell_type": "markdown",
   "id": "a94a6d0f",
   "metadata": {},
   "source": [
    "### Mark Anomalies"
   ]
  },
  {
   "cell_type": "code",
   "execution_count": null,
   "id": "387bcdc5",
   "metadata": {},
   "outputs": [],
   "source": [
    "lab_encoder_file = PurePosixPath(\"encoder.save\")\n",
    "print(f'Trace File Size: {trace_df.shape},  Predicted Seq. Size: {seq_pre_dict}')\n",
    "trace_df = trace_seq_path(trace_df, seq_pre_dict, eventId, lab_encoder_file)\n",
    "trace_df.to_csv(PurePosixPath('param_trace_df.csv'),index=False)"
   ]
  },
  {
   "cell_type": "markdown",
   "id": "8507bf93",
   "metadata": {},
   "source": [
    "### Online Learning"
   ]
  },
  {
   "cell_type": "code",
   "execution_count": null,
   "id": "de6f28db",
   "metadata": {},
   "outputs": [],
   "source": [
    "steps = 5\n",
    "%time train_batch(model, model_file, train_X[:50], train_y[:50], steps, tp_int, attempts)"
   ]
  }
 ],
 "metadata": {
  "kernelspec": {
   "display_name": "Python 3 (ipykernel)",
   "language": "python",
   "name": "python3"
  },
  "language_info": {
   "codemirror_mode": {
    "name": "ipython",
    "version": 3
   },
   "file_extension": ".py",
   "mimetype": "text/x-python",
   "name": "python",
   "nbconvert_exporter": "python",
   "pygments_lexer": "ipython3",
   "version": "3.8.5"
  }
 },
 "nbformat": 4,
 "nbformat_minor": 5
}
