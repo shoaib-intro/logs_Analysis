{
 "cells": [
  {
   "cell_type": "code",
   "execution_count": null,
   "id": "e636cf29",
   "metadata": {},
   "outputs": [],
   "source": [
    "from EPA import *\n",
    "from EPA import encode_key,model_build, fit_eval, anomaly_match, trace_seq_path, train_batch\n",
    "#!jupyter notebook list"
   ]
  },
  {
   "cell_type": "markdown",
   "id": "370d36b8",
   "metadata": {},
   "source": [
    "## Log key execuition path Anomaly\n",
    "\n",
    "### Model architecture \n",
    "\n",
    " - Log key execution path anomaly\n",
    " - LSTM with history 5\n",
    " \n",
    "**Training**:\n",
    " - set the path_filename\n",
    " - set the log_value_vector for Training\n",
    " \n",
    "**Testing**:\n",
    " - set the path_filename\n",
    " - set the log_value_vector\n",
    "\n",
    "### The principles behind Execution path anomaly\n",
    "1. first, we generate the set of distinct log keys from our program\n",
    "2. parse the entries into log keys, the log key sequence ---- an execution path\n",
    "3. the model DeepLog is a multi-class classifier over recent context\n",
    "\n",
    "1. input the recent log keys\n",
    "2. a probability distribution over the n log keys from K ---- the probability that the next log key in the sequence is a key ki belongs to K\n",
    "\n",
    "### How LSTM Works\n",
    "\n",
    "- each block remembers a state for its input as a vector of a fixed dimension\n",
    "\n",
    "- input: a window w of h log keys --- (w = {mt−h, . . . ,mt−1})\n",
    "- output: the log key value comes right after w\n",
    "\n",
    "- the loss function will be categorical cross-entropy loss\n",
    "\n",
    "- omits the input layer and and output layer ---- encoding-decoding schemes\n",
    "- the input layer encodes the n possible log keys from K(log keys set) as one-hot vectors\n",
    "\n",
    "- output layer:  a standard multinomial logistic function to represent **Pr[mt = ki|w]**\n",
    "\"\"\"\n"
   ]
  },
  {
   "cell_type": "code",
   "execution_count": null,
   "id": "171b65fb",
   "metadata": {},
   "outputs": [],
   "source": [
    "#df = pd.read_csv(f'data/log_value_vector.csv')\n",
    "df = pd.read_pickle(f'data/log_value_vector.pkl')\n",
    "#df = df.iloc[df.index < len(df.index)* 0.2]\n",
    "df"
   ]
  },
  {
   "cell_type": "markdown",
   "id": "fa284663",
   "metadata": {},
   "source": [
    "#### Step 1: Encode log key Sequences (one hot key)"
   ]
  },
  {
   "cell_type": "code",
   "execution_count": null,
   "id": "ce257a34",
   "metadata": {},
   "outputs": [],
   "source": [
    "# read the data\n",
    "encoder_file = PurePosixPath('encoder.save')\n",
    "model_file = PurePosixPath('model.h5')\n",
    "X, one_hot_y, class_num = encode_key(df['log key'], encoder_file, 5)\n",
    "\n",
    "X.shape, one_hot_y.shape  # seq -> next"
   ]
  },
  {
   "cell_type": "markdown",
   "id": "9f1aaa50",
   "metadata": {},
   "source": [
    "#### Step 2: LSTM Model (train, test)"
   ]
  },
  {
   "cell_type": "code",
   "execution_count": null,
   "id": "ae4610bc",
   "metadata": {},
   "outputs": [],
   "source": [
    "%time model = model_build(5, class_num)"
   ]
  },
  {
   "cell_type": "code",
   "execution_count": null,
   "id": "aefcc266",
   "metadata": {},
   "outputs": [],
   "source": [
    "%time classifier = fit_eval(model, model_file ,30, X, one_hot_y)"
   ]
  },
  {
   "cell_type": "code",
   "execution_count": null,
   "id": "74fde3e9",
   "metadata": {
    "scrolled": true
   },
   "outputs": [],
   "source": [
    "%time seq_pre_dict = anomaly_match(classifier, X, one_hot_y, 0.0001) # for initial learned anomalies 0.001 is better\n",
    "trace_df = df.iloc[:len(X),]\n",
    "#seq_pre_dict = anomaly_match(classifier, X, one_hot_y, 0.01)\n",
    "#trace_df = df.iloc[:,]"
   ]
  },
  {
   "cell_type": "code",
   "execution_count": null,
   "id": "e4fcef40",
   "metadata": {},
   "outputs": [],
   "source": [
    "#for key, value in seq_pre_dict.items():\n",
    "#    print(key)\n",
    "#    print(len(value))\n",
    "#print(len(trace_df))"
   ]
  },
  {
   "cell_type": "code",
   "execution_count": null,
   "id": "df415f18",
   "metadata": {
    "scrolled": true
   },
   "outputs": [],
   "source": [
    "new_trace_df = trace_seq_path(trace_df, seq_pre_dict)\n",
    "new_trace_df.to_csv(PurePosixPath('EPA_trace_df.csv'))\n",
    "print(new_trace_df['path_pred'].value_counts())\n",
    "new_trace_df.head(50)"
   ]
  },
  {
   "cell_type": "markdown",
   "id": "71a85832",
   "metadata": {},
   "source": [
    "#### Step 3: `Online learning` "
   ]
  },
  {
   "cell_type": "code",
   "execution_count": null,
   "id": "f2fbdbaa",
   "metadata": {
    "scrolled": true
   },
   "outputs": [],
   "source": [
    "#train_batch(classifier, X[:100], one_hot_y[:100])\n",
    "%time model2 = train_batch(classifier,model_file,  X[:100], one_hot_y[:100], 0.0001,5) # 0.05 probab is better to learn "
   ]
  }
 ],
 "metadata": {
  "kernelspec": {
   "display_name": "Python 3 (ipykernel)",
   "language": "python",
   "name": "python3"
  },
  "language_info": {
   "codemirror_mode": {
    "name": "ipython",
    "version": 3
   },
   "file_extension": ".py",
   "mimetype": "text/x-python",
   "name": "python",
   "nbconvert_exporter": "python",
   "pygments_lexer": "ipython3",
   "version": "3.8.5"
  }
 },
 "nbformat": 4,
 "nbformat_minor": 5
}
